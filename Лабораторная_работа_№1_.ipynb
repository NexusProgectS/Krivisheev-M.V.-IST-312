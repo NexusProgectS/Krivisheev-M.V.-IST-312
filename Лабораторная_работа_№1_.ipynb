{
  "nbformat": 4,
  "nbformat_minor": 0,
  "metadata": {
    "colab": {
      "provenance": [],
      "collapsed_sections": []
    },
    "kernelspec": {
      "name": "python3",
      "display_name": "Python 3"
    },
    "language_info": {
      "name": "python"
    }
  },
  "cells": [
    {
      "cell_type": "code",
      "execution_count": null,
      "metadata": {
        "colab": {
          "base_uri": "https://localhost:8080/"
        },
        "id": "eEpa1WoO9Tu8",
        "outputId": "796c5b76-2489-4ad8-e8b8-191a784618c4"
      },
      "outputs": [
        {
          "output_type": "stream",
          "name": "stdout",
          "text": [
            "Hello World\n",
            "7\n"
          ]
        }
      ],
      "source": [
        "#Hello World\n",
        "print(\"Hello World\")\n",
        "a = 5\n",
        "b = 2\n",
        "c = a + b\n",
        "print(c)\n"
      ]
    },
    {
      "cell_type": "code",
      "source": [
        "#Площадь треугольника \n",
        "print (\"Площадь треугольника\")\n",
        "a = int(input())\n",
        "b = int(input())\n",
        "S = 0.5 * a * b\n",
        "print (S)"
      ],
      "metadata": {
        "colab": {
          "base_uri": "https://localhost:8080/"
        },
        "id": "12c3iF7f-1N_",
        "outputId": "50e7dfcb-7160-42f2-cbe0-54c0da52eb6e"
      },
      "execution_count": null,
      "outputs": [
        {
          "output_type": "stream",
          "name": "stdout",
          "text": [
            "Площадь треугольника\n",
            "9\n",
            "9\n",
            "40.5\n"
          ]
        }
      ]
    },
    {
      "cell_type": "code",
      "source": [
        "#Решение неравенства 6\n",
        "print (\"Решение уравнений\")\n",
        "a = 3\n",
        "b = 6\n",
        "x = (a^2 + b^2 - c^3)/2 \n",
        "print (x)"
      ],
      "metadata": {
        "colab": {
          "base_uri": "https://localhost:8080/"
        },
        "id": "10fxTf1CBGsZ",
        "outputId": "4636c760-b5a6-4fdf-d536-5ddb83f34deb"
      },
      "execution_count": null,
      "outputs": [
        {
          "output_type": "stream",
          "name": "stdout",
          "text": [
            "Решение уравнений\n",
            "-6.5\n"
          ]
        }
      ]
    },
    {
      "cell_type": "code",
      "source": [
        "#Умножение числа 5 на выбранное число     1\n",
        "print (\"5 умноженное на выбранное число, ведите число:\")\n",
        "a = 5 \n",
        "b = int(input())\n",
        "c = a * b\n",
        "print (\"Ответ:\", c) \n"
      ],
      "metadata": {
        "colab": {
          "base_uri": "https://localhost:8080/"
        },
        "id": "_C4z1CKyCBm2",
        "outputId": "4546fd9c-8913-4821-ed67-0ea810876c90"
      },
      "execution_count": null,
      "outputs": [
        {
          "output_type": "stream",
          "name": "stdout",
          "text": [
            "5 умноженное на выбранное число, ведите число:\n",
            "5\n",
            "Ответ: 25\n"
          ]
        }
      ]
    },
    {
      "cell_type": "code",
      "source": [
        "#Сумма деленная на число 3\n",
        "print(\"найдите значение\")\n",
        "a = 15\n",
        "b = 10\n",
        "с = int (input())\n",
        "x = (a+b)/c\n",
        "print (x)"
      ],
      "metadata": {
        "colab": {
          "base_uri": "https://localhost:8080/"
        },
        "id": "YZQ3o1kuF7Gg",
        "outputId": "68d06eaf-8b80-4d1b-f3ce-111ce6f561b6"
      },
      "execution_count": null,
      "outputs": [
        {
          "output_type": "stream",
          "name": "stdout",
          "text": [
            "найдите значение\n",
            "5\n",
            "1.0\n"
          ]
        }
      ]
    },
    {
      "cell_type": "code",
      "source": [
        "a = 2\n",
        "b = 3\n",
        "c = 2^2+2*a*b+3^2\n",
        "print(c)"
      ],
      "metadata": {
        "colab": {
          "base_uri": "https://localhost:8080/"
        },
        "id": "cqMU6XVnJFnG",
        "outputId": "cbf4d1d3-c872-4ca8-cd0d-5779ad0d3755"
      },
      "execution_count": null,
      "outputs": [
        {
          "output_type": "stream",
          "name": "stdout",
          "text": [
            "17\n"
          ]
        }
      ]
    },
    {
      "cell_type": "code",
      "source": [
        "#Возведение общей суммы в квадрат 2\n",
        "print (\"Суммма чисел и возведение их в квадрат\")\n",
        "a = int(input())\n",
        "b = int(input())\n",
        "c = (a + b)**2\n",
        "print (c)\n"
      ],
      "metadata": {
        "colab": {
          "base_uri": "https://localhost:8080/"
        },
        "id": "tkGi-2oWDahF",
        "outputId": "2db4db1a-f048-41fc-81cf-8d6a6f9cf20f"
      },
      "execution_count": null,
      "outputs": [
        {
          "output_type": "stream",
          "name": "stdout",
          "text": [
            "Суммма чисел и возведение их в квадрат\n",
            "2\n",
            "2\n",
            "16\n"
          ]
        }
      ]
    },
    {
      "cell_type": "code",
      "source": [
        "#Квадрат суммы чисел 4\n",
        "print (\"Сумма квадратов\")\n",
        "a = int(input())\n",
        "b = int(input())\n",
        "c = (a**2 + 2 * a * b + b**2)\n",
        "print (c)"
      ],
      "metadata": {
        "colab": {
          "base_uri": "https://localhost:8080/"
        },
        "id": "r1yf979LOEaL",
        "outputId": "970e2cd4-2e8e-4ef9-8784-4662aca532cc"
      },
      "execution_count": null,
      "outputs": [
        {
          "output_type": "stream",
          "name": "stdout",
          "text": [
            "Сумма квадратов\n",
            "4\n",
            "4\n",
            "64\n"
          ]
        }
      ]
    },
    {
      "cell_type": "code",
      "source": [
        "#Неравнобедренный треугольник  5\n",
        "a = 0\n",
        "b = 0\n",
        "c = 0\n",
        "r = 0\n",
        "print ('Значение 1й стороны')\n",
        "a = int(input())\n",
        "print ('Значение 2й стороны')\n",
        "b = int(input())\n",
        "print ('Значение 3й стороны')\n",
        "c = int(input())\n",
        "r = a + b + c\n",
        "print ('Периметр',r)\n",
        "a = 0\n",
        "h = 0\n",
        "S = 0\n",
        "print ('Введите значение основания треугольника: ')\n",
        "a = int(input())\n",
        "print ('Введите значение высоты треугольника, опущенной на основание: ')\n",
        "h = int(input())\n",
        "S = (a * h)/2\n",
        "print ('Площадь треугольника: ',S)\n",
        "\n",
        "\n"
      ],
      "metadata": {
        "colab": {
          "base_uri": "https://localhost:8080/"
        },
        "id": "xpEEt8at58vM",
        "outputId": "5bf8aa92-1767-4eac-9ca8-52321ebd8f4f"
      },
      "execution_count": null,
      "outputs": [
        {
          "output_type": "stream",
          "name": "stdout",
          "text": [
            "Значение 1й стороны\n",
            "2\n",
            "Значение 2й стороны\n",
            "2\n",
            "Значение 3й стороны\n",
            "2\n",
            "Периметр 6\n",
            "Введите значение основания треугольника: \n",
            "2\n",
            "Введите значение высоты треугольника, опущенной на основание: \n",
            "2\n",
            "Площадь треугольника:  2.0\n"
          ]
        }
      ]
    },
    {
      "cell_type": "code",
      "source": [
        "#3 задания в одном  8\n",
        "a = 0\n",
        "b = 0\n",
        "k = 0\n",
        "r = 0\n",
        "d = 0\n",
        "print ('Введите первое число')\n",
        "a = int(input())\n",
        "print ('введите второе число')\n",
        "b = int(input())\n",
        "k = a // b\n",
        "r = a * b\n",
        "d = (a % b)\n",
        "print (\"Частность: \", k)\n",
        "print (\"Произведение: \", r)\n",
        "print (\"Остаток: \", d)\n"
      ],
      "metadata": {
        "colab": {
          "base_uri": "https://localhost:8080/"
        },
        "id": "_xLg-oYaP0jm",
        "outputId": "8aed0a0a-c871-40ab-a0cd-72d342b97e2e"
      },
      "execution_count": null,
      "outputs": [
        {
          "output_type": "stream",
          "name": "stdout",
          "text": [
            "Введите первое число\n",
            "3\n",
            "введите второе число\n",
            "2\n",
            "Частность:  1\n",
            "Произведение:  6\n",
            "Остаток:  1\n"
          ]
        }
      ]
    },
    {
      "cell_type": "code",
      "source": [
        "#Квадрат числа\n",
        "print ('Введите число для совершения операции: ')\n",
        "z = int(input())\n",
        "print ('Введите число для совершения операции деления: ')\n",
        "n = int(input())\n",
        "z = (z * z)//n\n",
        "print (z)"
      ],
      "metadata": {
        "colab": {
          "base_uri": "https://localhost:8080/"
        },
        "id": "J8Vr69wS89kz",
        "outputId": "5059446d-0aa3-4069-f19c-6e281cca5269"
      },
      "execution_count": null,
      "outputs": [
        {
          "output_type": "stream",
          "name": "stdout",
          "text": [
            "Введите число для совершения операции: \n",
            "3\n",
            "Введите число для совершения операции деления: \n",
            "2\n",
            "4\n"
          ]
        }
      ]
    },
    {
      "cell_type": "code",
      "source": [
        "#Пов.сл 1  время\n",
        "print ('Секунды: ')\n",
        "sek = int(input())\n",
        "min = sek / 60\n",
        "hour = sek / 3600\n",
        "day = sek / 86400\n",
        "print ('Минуты: ', min)\n",
        "print ('Часы: ', hour)\n",
        "print ('Дни: ', day)"
      ],
      "metadata": {
        "colab": {
          "base_uri": "https://localhost:8080/"
        },
        "id": "0aYOVnyTC4IH",
        "outputId": "69acedf0-8af2-4a1b-f042-1ba1e61fc7af"
      },
      "execution_count": null,
      "outputs": [
        {
          "output_type": "stream",
          "name": "stdout",
          "text": [
            "Секунды: \n",
            "86400\n",
            "Минуты:  1440.0\n",
            "Часы:  24.0\n",
            "Дни:  1.0\n"
          ]
        }
      ]
    },
    {
      "cell_type": "code",
      "source": [
        "#Пов.сл 2 n\n",
        "print ('Число: ')\n",
        "en = int(input())\n",
        "en = en + (en*en) + (en*en*en) \n",
        "print (\"Результат: \", en) "
      ],
      "metadata": {
        "colab": {
          "base_uri": "https://localhost:8080/"
        },
        "id": "d8z6aQCsEZGn",
        "outputId": "812a4ec8-ef20-4d26-d6ce-5cc79da6a18b"
      },
      "execution_count": null,
      "outputs": [
        {
          "output_type": "stream",
          "name": "stdout",
          "text": [
            "Число: \n",
            "2\n",
            "Результат:  14\n"
          ]
        }
      ]
    },
    {
      "cell_type": "code",
      "source": [
        "month = input()\n",
        "if month == \"1\":\n",
        " print (\"\")\n",
        "else:\n",
        "   print (\"Ne A\")"
      ],
      "metadata": {
        "colab": {
          "base_uri": "https://localhost:8080/"
        },
        "id": "fTUfOeAI145f",
        "outputId": "5a1c0f82-f4e7-46b6-8073-8020d50cd18d"
      },
      "execution_count": null,
      "outputs": [
        {
          "output_type": "stream",
          "name": "stdout",
          "text": [
            "2\n",
            "Ne A\n"
          ]
        }
      ]
    }
  ]
}