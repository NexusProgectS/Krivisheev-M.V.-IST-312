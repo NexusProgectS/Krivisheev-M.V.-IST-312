{
  "nbformat": 4,
  "nbformat_minor": 0,
  "metadata": {
    "colab": {
      "provenance": [],
      "collapsed_sections": []
    },
    "kernelspec": {
      "name": "python3",
      "display_name": "Python 3"
    },
    "language_info": {
      "name": "python"
    }
  },
  "cells": [
    {
      "cell_type": "code",
      "source": [
        "#Календарь\n",
        "print (\"Введите номер месяца от 1-го до 12-ти: \")\n",
        "month = input()\n",
        "if month == \"1\":\n",
        " print (\"Месяц: Январь\")\n",
        "elif month == \"2\":\n",
        "   print (\"Месяц: Февраль\")\n",
        "elif month == \"3\":\n",
        "   print (\"Месяц: Март\")\n",
        "elif month == \"4\":\n",
        "   print (\"Месяц: Апрель\")\n",
        "elif month == \"5\":\n",
        "   print (\"Месяц: Май\")\n",
        "elif month == \"6\":\n",
        "   print (\"Месяц: Июнь\")\n",
        "elif month == \"7\":\n",
        "   print (\"Месяц: Июль\")\n",
        "elif month == \"8\":\n",
        "   print (\"Месяц: Август\")\n",
        "elif month == \"9\":\n",
        "   print (\"Месяц: Сентябрь\")\n",
        "elif month == \"10\":\n",
        "   print (\"Месяц: Октябрь\")\n",
        "elif month == \"11\":\n",
        "   print (\"Месяц: Ноябрь\")\n",
        "elif month == \"12\":\n",
        "   print (\"Месяц: Декабрь\")\n",
        "else:\n",
        "   print (\"Некорректное значение месяца\")\n"
      ],
      "metadata": {
        "colab": {
          "base_uri": "https://localhost:8080/"
        },
        "id": "fTUfOeAI145f",
        "outputId": "0abf7c1f-d63e-4d4b-b3e4-7efa9097d1c6"
      },
      "execution_count": null,
      "outputs": [
        {
          "output_type": "stream",
          "name": "stdout",
          "text": [
            "Введите номер месяца от 1-го до 12-ти: \n",
            "5\n",
            "Месяц: Май\n"
          ]
        }
      ]
    },
    {
      "cell_type": "code",
      "source": [
        "#Четное/нечетное\n",
        "print (\"Введите число для определения четности: \")\n",
        "a = int(input())\n",
        "if (a%2==0):\n",
        " print (\"Число четное\")\n",
        "else:\n",
        " print (\"Нечетное число\")"
      ],
      "metadata": {
        "id": "aJeyVC4iNQwq",
        "colab": {
          "base_uri": "https://localhost:8080/"
        },
        "outputId": "644ce623-dc2c-47b5-e032-d46b9d9e214a"
      },
      "execution_count": null,
      "outputs": [
        {
          "output_type": "stream",
          "name": "stdout",
          "text": [
            "Введите число для определения четности: \n",
            "5\n",
            "Нечетное число\n"
          ]
        }
      ]
    },
    {
      "cell_type": "code",
      "source": [
        "#Stonks☝\n",
        "print (\"Число N: \")\n",
        "N = int(input())\n",
        "if N >= 40:\n",
        "  print (\"Stonks ☝\")\n",
        "elif N < 40:\n",
        "  print (\"Not stonks ☟\")"
      ],
      "metadata": {
        "colab": {
          "base_uri": "https://localhost:8080/"
        },
        "id": "f4V4DpBJhPsJ",
        "outputId": "55f3e19e-3cd0-4433-efd4-2a7345b217ac"
      },
      "execution_count": null,
      "outputs": [
        {
          "output_type": "stream",
          "name": "stdout",
          "text": [
            "Число N: \n",
            "6\n",
            "Not stonks ☟\n"
          ]
        }
      ]
    },
    {
      "cell_type": "code",
      "source": [
        "#Функция\n",
        "print (\"Функция is_year\")\n",
        "n = int(input())\n",
        "a = int\n",
        "def  is_year_leap():\n",
        " if (n%4==0):\n",
        "  a = ('True')\n",
        " else:\n",
        "  a = ('False')\n",
        " return a\n",
        "is_year_leap()"
      ],
      "metadata": {
        "colab": {
          "base_uri": "https://localhost:8080/",
          "height": 70
        },
        "id": "m_K0ko45ja1i",
        "outputId": "8361b5d2-09af-400f-c130-712c059d789c"
      },
      "execution_count": null,
      "outputs": [
        {
          "name": "stdout",
          "output_type": "stream",
          "text": [
            "Функция is_year\n",
            "2024\n"
          ]
        },
        {
          "output_type": "execute_result",
          "data": {
            "text/plain": [
              "'True'"
            ],
            "application/vnd.google.colaboratory.intrinsic+json": {
              "type": "string"
            }
          },
          "metadata": {},
          "execution_count": 5
        }
      ]
    },
    {
      "cell_type": "code",
      "source": [
        "#Замена переменных и смена их местами\n",
        "import numpy as np\n",
        "a = 0\n",
        "b = 0\n",
        "print ('Значения двух переменных: ')\n",
        "a = float(input())\n",
        "b = float(input())\n",
        "if (a*3.6 > b or b in (np.arange((-138/2) ** 1.3 , (abs((-69/(28 ** 5.1)) * 4))))):\n",
        "  a,b = b,a\n",
        "  print (\"a = \",a)\n",
        "  print (\"b = \",b)\n",
        "else: \n",
        "  print ('Значения не соответствуют поставленной задаче')"
      ],
      "metadata": {
        "colab": {
          "base_uri": "https://localhost:8080/"
        },
        "id": "S4pODK6_pXc3",
        "outputId": "c711e313-18f7-4d16-9c51-f01aa2ba1000"
      },
      "execution_count": null,
      "outputs": [
        {
          "output_type": "stream",
          "name": "stdout",
          "text": [
            "Значения двух переменных: \n",
            "7.2\n",
            "2\n",
            "a =  2.0\n",
            "b =  7.2\n"
          ]
        }
      ]
    },
    {
      "cell_type": "code",
      "source": [
        "#5 чисел\n",
        "chetn = 0\n",
        "otr = 0\n",
        "perv = 0\n",
        "vtor = 0\n",
        "tret = 0\n",
        "chetv = 0\n",
        "pyat = 0\n",
        "perem = 0\n",
        "prom = 0\n",
        "import array\n",
        "import numpy as np\n",
        "print('Введите 1-e число: ')\n",
        "perv = int(input())\n",
        "print('Введите 2-е число: ')\n",
        "vtor = int(input())\n",
        "if (vtor == perv):\n",
        "  print ('Введенное число не является уникальным')\n",
        "print('Введите 3-e число: ')\n",
        "tret = int(input())\n",
        "if (tret == vtor) or (tret == perv):\n",
        "  print ('Введенное число не является уникальным')\n",
        "print('Введите 4-e число: ')\n",
        "chetv = int(input())\n",
        "if (chetv == tret) or (chetv == vtor) or (chetv == perv):\n",
        "  print ('Введенное число не является уникальным')\n",
        "print('Введите 5-e число: ')\n",
        "pyat = int(input())\n",
        "if (pyat == perv) or (pyat == vtor) or (pyat == tret) or (pyat == chetv):\n",
        "  print ('Введенное число не является уникальным')\n",
        "if (perv%2==0):\n",
        "  chetn = chetn + 1\n",
        "if (vtor%2==0):\n",
        "  chetn = chetn + 1\n",
        "if (tret%2==0):\n",
        "  chetn = chetn + 1\n",
        "if (chetv%2==0):\n",
        "  chetn = chetn + 1\n",
        "if (pyat%2==0):\n",
        "  chetn = chetn + 1\n",
        "if (perv<0):\n",
        "  otr = otr + 1\n",
        "if (vtor<0):\n",
        "  otr = otr + 1\n",
        "if (tret<0):\n",
        "  otr = otr + 1\n",
        "if (chetv<0):\n",
        "  otr = otr + 1\n",
        "if (pyat<0):\n",
        "  otr = otr + 1\n",
        "if (perv in (np.arange(-256 , 1024))):\n",
        "  prom = prom + 1\n",
        "if (vtor in (np.arange(-256,1024))):\n",
        "  prom = prom + 1\n",
        "if (tret in (np.arange(-256,1024))):\n",
        "  prom = prom + 1\n",
        "if (chetv in (np.arange(-256,1024))):\n",
        "  prom = prom + 1\n",
        "if (pyat in (np.arange(-256,1024))):\n",
        "  prom = prom + 1\n",
        "print ('Количество чётных: ',chetn)\n",
        "print ('Количество отрицательных: ',otr)\n",
        "print ('Количество чисел, лежащих в промежутке (-256;1024): ',prom)"
      ],
      "metadata": {
        "id": "6g1Gxyzl7MRc",
        "colab": {
          "base_uri": "https://localhost:8080/"
        },
        "outputId": "1a166437-3175-42eb-ec1a-85eda50cafc2"
      },
      "execution_count": null,
      "outputs": [
        {
          "output_type": "stream",
          "name": "stdout",
          "text": [
            "Введите 1-e число: \n",
            "-2\n",
            "Введите 2-е число: \n",
            "-200\n",
            "Введите 3-e число: \n",
            "74\n",
            "Введите 4-e число: \n",
            "9\n",
            "Введите 5-e число: \n",
            "-2\n",
            "Введенное число не является уникальным\n",
            "Количество чётных:  4\n",
            "Количество отрицательных:  3\n",
            "Количество чисел, лежащих в промежутке (-256;1024):  5\n"
          ]
        }
      ]
    },
    {
      "cell_type": "code",
      "source": [
        "#повышенная сложность\n",
        "a = int(input())\n",
        "b = int(input())\n",
        "c = int(input())\n",
        "rez = int()\n",
        "rez =(a**2+b**3/c+3) / 4\n",
        "if (rez%2==0):\n",
        "  print('Результат - ',rez,', является четным')\n",
        "else:\n",
        "  print ('Результат - ',rez,', не является четным')"
      ],
      "metadata": {
        "colab": {
          "base_uri": "https://localhost:8080/"
        },
        "id": "1QYL6h3jaIQe",
        "outputId": "7dfa01fe-91ac-4031-e364-1587db0e66ad"
      },
      "execution_count": 4,
      "outputs": [
        {
          "output_type": "stream",
          "name": "stdout",
          "text": [
            "2\n",
            "3\n",
            "4\n",
            "Результат -  3.4375 . не является четным\n"
          ]
        }
      ]
    }
  ]
}